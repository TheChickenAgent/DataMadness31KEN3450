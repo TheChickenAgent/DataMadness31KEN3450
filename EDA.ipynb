{
 "cells": [
  {
   "attachments": {},
   "cell_type": "markdown",
   "metadata": {},
   "source": [
    "# Exploratory Data Analysis\n",
    "\n",
    "This notebook is made for exploring the data and analyzing it."
   ]
  },
  {
   "attachments": {},
   "cell_type": "markdown",
   "metadata": {},
   "source": [
    "## Imports\n",
    "\n",
    "Imports that we need to take care of."
   ]
  },
  {
   "cell_type": "code",
   "execution_count": 1,
   "metadata": {},
   "outputs": [],
   "source": [
    "import pandas as pd\n",
    "import re\n",
    "from itertools import combinations\n",
    "import matplotlib.pyplot as plt"
   ]
  },
  {
   "attachments": {},
   "cell_type": "markdown",
   "metadata": {},
   "source": [
    "## Loading the data\n",
    "\n",
    "Let's load the data into memory."
   ]
  },
  {
   "cell_type": "code",
   "execution_count": 2,
   "metadata": {},
   "outputs": [
    {
     "name": "stdout",
     "output_type": "stream",
     "text": [
      "['TotaalVermogenVernielingEnGeweld_26', 'TotaalVermogensmisdrijven_27', 'TotaalDiefstalUitWoningSchuurED_28', 'VernielingMisdrijfTegenOpenbareOrde_29', 'GeweldsEnSeksueleMisdrijven_30']\n",
      "['TotaalVermogenVernielingEnGeweld_26', 'TotaalVermogensmisdrijven_27', 'TotaalDiefstalUitWoningSchuurED_28', 'VernielingMisdrijfTegenOpenbareOrde_29', 'GeweldsEnSeksueleMisdrijven_30']\n",
      "['TotaalVermogenVernielingEnGeweld_26', 'TotaalVermogensmisdrijven_27', 'TotaalDiefstalUitWoningSchuurED_28', 'VernielingMisdrijfTegenOpenbareOrde_29', 'GeweldsEnSeksueleMisdrijven_30']\n"
     ]
    }
   ],
   "source": [
    "dfs = {}\n",
    "datasets = [\"data/2018/84468NED_UntypedDataSet_17032023_184722.csv\", \"data/2017/83901NED_UntypedDataSet_17032023_184829.csv\", \"data/2016/83903NED_UntypedDataSet_17032023_184919.csv\"]\n",
    "\n",
    "\n",
    "for dataset in datasets:\n",
    "    findings = re.findall(r\"(201\\d)\", dataset)\n",
    "    year = findings[0]\n",
    "    df = pd.read_csv(filepath_or_buffer=dataset, delimiter=\";\")\n",
    "    relative_columns = df.columns.to_list()[-5:] #there are five relative columns, skip these for now\n",
    "    print(relative_columns)\n",
    "    df = df.drop(columns=relative_columns)\n",
    "    dfs[year] = df"
   ]
  },
  {
   "attachments": {},
   "cell_type": "markdown",
   "metadata": {},
   "source": [
    "Let's check if we could join them easily by comparing if they have the same headers."
   ]
  },
  {
   "cell_type": "code",
   "execution_count": 3,
   "metadata": {},
   "outputs": [],
   "source": [
    "for comb in combinations(dfs.keys(), r=2):\n",
    "    year_0 = comb[0]\n",
    "    year_1 = comb[1]\n",
    "    if ((dfs[year_0].columns == dfs[year_1].columns).all() == False):\n",
    "        print('Problem with combination', comb, \", not all columns match.\")"
   ]
  },
  {
   "attachments": {},
   "cell_type": "markdown",
   "metadata": {},
   "source": [
    "Let's inspect if there is a data-related column. If there is, we can just join the table, else we need to make one to seperate the data of 2016, 2017, 2018 by."
   ]
  },
  {
   "cell_type": "code",
   "execution_count": 4,
   "metadata": {},
   "outputs": [
    {
     "name": "stdout",
     "output_type": "stream",
     "text": [
      "<class 'pandas.core.frame.DataFrame'>\n",
      "RangeIndex: 16771 entries, 0 to 16770\n",
      "Data columns (total 27 columns):\n",
      " #   Column                                  Non-Null Count  Dtype \n",
      "---  ------                                  --------------  ----- \n",
      " 0   ID                                      16771 non-null  int64 \n",
      " 1   WijkenEnBuurten                         16771 non-null  object\n",
      " 2   Gemeentenaam_1                          16771 non-null  object\n",
      " 3   SoortRegio_2                            16771 non-null  object\n",
      " 4   Codering_3                              16771 non-null  object\n",
      " 5   Indelingswijziging_4                    16771 non-null  object\n",
      " 6   AantalInwoners_5                        16771 non-null  int64 \n",
      " 7   TotaalVermogenVernielingEnGeweld_6      16771 non-null  object\n",
      " 8   TotaalVermogensmisdrijven_7             16771 non-null  object\n",
      " 9   TotaalDiefstal_8                        16771 non-null  object\n",
      " 10  Fietsendiefstal_9                       16771 non-null  object\n",
      " 11  DiefstalOverigeVervoermiddelen_10       16771 non-null  object\n",
      " 12  DiefstalUitVanafVervoermiddelen_11      16771 non-null  object\n",
      " 13  ZakkenrollerijStraatroofEnBeroving_12   16771 non-null  object\n",
      " 14  TotaalDiefstalUitWoningSchuurED_13      16771 non-null  object\n",
      " 15  DiefstalUitNietResidentieleGebouwen_14  16771 non-null  object\n",
      " 16  OverigeDiefstalInbraak_15               16771 non-null  object\n",
      " 17  OverigeVermogensmisdrijven_16           16771 non-null  object\n",
      " 18  TotaalVernielingTegenOpenbareOrde_17    16771 non-null  object\n",
      " 19  TotaalVernieling_18                     16771 non-null  object\n",
      " 20  VernielingAanAuto_19                    16771 non-null  object\n",
      " 21  OverigeVernieling_20                    16771 non-null  object\n",
      " 22  OverigeVernielingTegenOpenbareOrde_21   16771 non-null  object\n",
      " 23  TotaalGeweldsEnSeksueleMisdrijven_22    16771 non-null  object\n",
      " 24  Mishandeling_23                         16771 non-null  object\n",
      " 25  BedreigingEnStalking_24                 16771 non-null  object\n",
      " 26  OverigeGeweldsEnSeksueleMisdrijven_25   16771 non-null  object\n",
      "dtypes: int64(2), object(25)\n",
      "memory usage: 3.5+ MB\n"
     ]
    }
   ],
   "source": [
    "dfs[\"2018\"].info()"
   ]
  },
  {
   "attachments": {},
   "cell_type": "markdown",
   "metadata": {},
   "source": [
    "--> does not seem like it, so let's make a year column."
   ]
  },
  {
   "cell_type": "code",
   "execution_count": 5,
   "metadata": {},
   "outputs": [
    {
     "data": {
      "text/plain": [
       "Index(['ID', 'WijkenEnBuurten', 'Gemeentenaam_1', 'SoortRegio_2', 'Codering_3',\n",
       "       'Indelingswijziging_4', 'AantalInwoners_5',\n",
       "       'TotaalVermogenVernielingEnGeweld_6', 'TotaalVermogensmisdrijven_7',\n",
       "       'TotaalDiefstal_8', 'Fietsendiefstal_9',\n",
       "       'DiefstalOverigeVervoermiddelen_10',\n",
       "       'DiefstalUitVanafVervoermiddelen_11',\n",
       "       'ZakkenrollerijStraatroofEnBeroving_12',\n",
       "       'TotaalDiefstalUitWoningSchuurED_13',\n",
       "       'DiefstalUitNietResidentieleGebouwen_14', 'OverigeDiefstalInbraak_15',\n",
       "       'OverigeVermogensmisdrijven_16', 'TotaalVernielingTegenOpenbareOrde_17',\n",
       "       'TotaalVernieling_18', 'VernielingAanAuto_19', 'OverigeVernieling_20',\n",
       "       'OverigeVernielingTegenOpenbareOrde_21',\n",
       "       'TotaalGeweldsEnSeksueleMisdrijven_22', 'Mishandeling_23',\n",
       "       'BedreigingEnStalking_24', 'OverigeGeweldsEnSeksueleMisdrijven_25'],\n",
       "      dtype='object')"
      ]
     },
     "execution_count": 5,
     "metadata": {},
     "output_type": "execute_result"
    }
   ],
   "source": [
    "dfs[\"2018\"].columns"
   ]
  },
  {
   "attachments": {},
   "cell_type": "markdown",
   "metadata": {},
   "source": [
    "It seems that some columns have _numberOfCol at the end. Let's clean that."
   ]
  },
  {
   "cell_type": "code",
   "execution_count": 6,
   "metadata": {},
   "outputs": [],
   "source": [
    "columns = dfs[\"2018\"].columns.to_list()\n",
    "cleaned_columns = []\n",
    "for col in columns:\n",
    "    cleaned_col = re.sub(r\"(_\\d+)\", repl=\"\", string=col)\n",
    "    #r\"(_+\\d)\" --> regular expression that looks for an underscore with after that at least one digit.\n",
    "    cleaned_columns.append(cleaned_col)\n",
    "\n",
    "#Go over every dataframe and change the column names\n",
    "column_renamer = {columns[i]: cleaned_columns[i] for i in range(len(cleaned_columns))}\n",
    "for key in dfs.keys():\n",
    "    dfs[key] = dfs[key].rename(columns=column_renamer)"
   ]
  },
  {
   "cell_type": "code",
   "execution_count": 7,
   "metadata": {},
   "outputs": [],
   "source": [
    "for key in dfs.keys():\n",
    "    df = dfs[key]\n",
    "    df[\"year\"] = [year for _ in range(len(df))]"
   ]
  },
  {
   "attachments": {},
   "cell_type": "markdown",
   "metadata": {},
   "source": [
    "Let's create a big dataframe which has all data together"
   ]
  },
  {
   "cell_type": "code",
   "execution_count": 8,
   "metadata": {},
   "outputs": [],
   "source": [
    "for key in dfs.keys():\n",
    "    df = dfs[key]\n",
    "    df = df.reset_index()\n",
    "    df[\"ID\"] = [str(id)+\"_\"+key for id in df[\"ID\"].to_list()]\n",
    "    dfs[key] = df\n",
    "\n",
    "df_all = pd.DataFrame(columns=dfs[\"2018\"].columns)\n",
    "\n",
    "for key in dfs.keys():\n",
    "    df_all = pd.concat([df_all, dfs[key]])\n",
    "    dfs[key] = dfs[key].drop(columns=\"ID\")\n",
    "\n",
    "df_all = df_all.drop(columns=\"index\")"
   ]
  },
  {
   "cell_type": "code",
   "execution_count": 9,
   "metadata": {},
   "outputs": [
    {
     "data": {
      "text/html": [
       "<div>\n",
       "<style scoped>\n",
       "    .dataframe tbody tr th:only-of-type {\n",
       "        vertical-align: middle;\n",
       "    }\n",
       "\n",
       "    .dataframe tbody tr th {\n",
       "        vertical-align: top;\n",
       "    }\n",
       "\n",
       "    .dataframe thead th {\n",
       "        text-align: right;\n",
       "    }\n",
       "</style>\n",
       "<table border=\"1\" class=\"dataframe\">\n",
       "  <thead>\n",
       "    <tr style=\"text-align: right;\">\n",
       "      <th></th>\n",
       "      <th>ID</th>\n",
       "      <th>WijkenEnBuurten</th>\n",
       "      <th>Gemeentenaam</th>\n",
       "      <th>SoortRegio</th>\n",
       "      <th>Codering</th>\n",
       "      <th>Indelingswijziging</th>\n",
       "      <th>AantalInwoners</th>\n",
       "      <th>TotaalVermogenVernielingEnGeweld</th>\n",
       "      <th>TotaalVermogensmisdrijven</th>\n",
       "      <th>TotaalDiefstal</th>\n",
       "      <th>...</th>\n",
       "      <th>TotaalVernielingTegenOpenbareOrde</th>\n",
       "      <th>TotaalVernieling</th>\n",
       "      <th>VernielingAanAuto</th>\n",
       "      <th>OverigeVernieling</th>\n",
       "      <th>OverigeVernielingTegenOpenbareOrde</th>\n",
       "      <th>TotaalGeweldsEnSeksueleMisdrijven</th>\n",
       "      <th>Mishandeling</th>\n",
       "      <th>BedreigingEnStalking</th>\n",
       "      <th>OverigeGeweldsEnSeksueleMisdrijven</th>\n",
       "      <th>year</th>\n",
       "    </tr>\n",
       "  </thead>\n",
       "  <tbody>\n",
       "    <tr>\n",
       "      <th>0</th>\n",
       "      <td>0_2018</td>\n",
       "      <td>GM1680</td>\n",
       "      <td>Aa en Hunze</td>\n",
       "      <td>Gemeente</td>\n",
       "      <td>GM1680</td>\n",
       "      <td>.</td>\n",
       "      <td>25390</td>\n",
       "      <td>423</td>\n",
       "      <td>284</td>\n",
       "      <td>199</td>\n",
       "      <td>...</td>\n",
       "      <td>73</td>\n",
       "      <td>59</td>\n",
       "      <td>14</td>\n",
       "      <td>45</td>\n",
       "      <td>14</td>\n",
       "      <td>66</td>\n",
       "      <td>26</td>\n",
       "      <td>23</td>\n",
       "      <td>17</td>\n",
       "      <td>2016</td>\n",
       "    </tr>\n",
       "    <tr>\n",
       "      <th>1</th>\n",
       "      <td>1_2018</td>\n",
       "      <td>WK168000</td>\n",
       "      <td>Aa en Hunze</td>\n",
       "      <td>Wijk</td>\n",
       "      <td>WK168000</td>\n",
       "      <td>1</td>\n",
       "      <td>3560</td>\n",
       "      <td>38</td>\n",
       "      <td>22</td>\n",
       "      <td>16</td>\n",
       "      <td>...</td>\n",
       "      <td>9</td>\n",
       "      <td>8</td>\n",
       "      <td>1</td>\n",
       "      <td>7</td>\n",
       "      <td>1</td>\n",
       "      <td>7</td>\n",
       "      <td>3</td>\n",
       "      <td>3</td>\n",
       "      <td>1</td>\n",
       "      <td>2016</td>\n",
       "    </tr>\n",
       "    <tr>\n",
       "      <th>2</th>\n",
       "      <td>2_2018</td>\n",
       "      <td>BU16800000</td>\n",
       "      <td>Aa en Hunze</td>\n",
       "      <td>Buurt</td>\n",
       "      <td>BU16800000</td>\n",
       "      <td>1</td>\n",
       "      <td>3415</td>\n",
       "      <td>37</td>\n",
       "      <td>21</td>\n",
       "      <td>15</td>\n",
       "      <td>...</td>\n",
       "      <td>9</td>\n",
       "      <td>8</td>\n",
       "      <td>1</td>\n",
       "      <td>7</td>\n",
       "      <td>1</td>\n",
       "      <td>7</td>\n",
       "      <td>3</td>\n",
       "      <td>3</td>\n",
       "      <td>1</td>\n",
       "      <td>2016</td>\n",
       "    </tr>\n",
       "    <tr>\n",
       "      <th>3</th>\n",
       "      <td>3_2018</td>\n",
       "      <td>BU16800009</td>\n",
       "      <td>Aa en Hunze</td>\n",
       "      <td>Buurt</td>\n",
       "      <td>BU16800009</td>\n",
       "      <td>1</td>\n",
       "      <td>145</td>\n",
       "      <td>1</td>\n",
       "      <td>1</td>\n",
       "      <td>1</td>\n",
       "      <td>...</td>\n",
       "      <td>0</td>\n",
       "      <td>0</td>\n",
       "      <td>0</td>\n",
       "      <td>0</td>\n",
       "      <td>0</td>\n",
       "      <td>0</td>\n",
       "      <td>0</td>\n",
       "      <td>0</td>\n",
       "      <td>0</td>\n",
       "      <td>2016</td>\n",
       "    </tr>\n",
       "    <tr>\n",
       "      <th>4</th>\n",
       "      <td>4_2018</td>\n",
       "      <td>WK168001</td>\n",
       "      <td>Aa en Hunze</td>\n",
       "      <td>Wijk</td>\n",
       "      <td>WK168001</td>\n",
       "      <td>1</td>\n",
       "      <td>1430</td>\n",
       "      <td>19</td>\n",
       "      <td>16</td>\n",
       "      <td>12</td>\n",
       "      <td>...</td>\n",
       "      <td>1</td>\n",
       "      <td>1</td>\n",
       "      <td>0</td>\n",
       "      <td>1</td>\n",
       "      <td>0</td>\n",
       "      <td>2</td>\n",
       "      <td>1</td>\n",
       "      <td>0</td>\n",
       "      <td>1</td>\n",
       "      <td>2016</td>\n",
       "    </tr>\n",
       "    <tr>\n",
       "      <th>...</th>\n",
       "      <td>...</td>\n",
       "      <td>...</td>\n",
       "      <td>...</td>\n",
       "      <td>...</td>\n",
       "      <td>...</td>\n",
       "      <td>...</td>\n",
       "      <td>...</td>\n",
       "      <td>...</td>\n",
       "      <td>...</td>\n",
       "      <td>...</td>\n",
       "      <td>...</td>\n",
       "      <td>...</td>\n",
       "      <td>...</td>\n",
       "      <td>...</td>\n",
       "      <td>...</td>\n",
       "      <td>...</td>\n",
       "      <td>...</td>\n",
       "      <td>...</td>\n",
       "      <td>...</td>\n",
       "      <td>...</td>\n",
       "      <td>...</td>\n",
       "    </tr>\n",
       "    <tr>\n",
       "      <th>16188</th>\n",
       "      <td>16188_2016</td>\n",
       "      <td>BU01935150</td>\n",
       "      <td>Zwolle</td>\n",
       "      <td>Buurt</td>\n",
       "      <td>BU01935150</td>\n",
       "      <td>1</td>\n",
       "      <td>3199</td>\n",
       "      <td>33</td>\n",
       "      <td>20</td>\n",
       "      <td>13</td>\n",
       "      <td>...</td>\n",
       "      <td>9</td>\n",
       "      <td>9</td>\n",
       "      <td>2</td>\n",
       "      <td>7</td>\n",
       "      <td>0</td>\n",
       "      <td>4</td>\n",
       "      <td>0</td>\n",
       "      <td>4</td>\n",
       "      <td>0</td>\n",
       "      <td>2016</td>\n",
       "    </tr>\n",
       "    <tr>\n",
       "      <th>16189</th>\n",
       "      <td>16189_2016</td>\n",
       "      <td>BU01935160</td>\n",
       "      <td>Zwolle</td>\n",
       "      <td>Buurt</td>\n",
       "      <td>BU01935160</td>\n",
       "      <td>1</td>\n",
       "      <td>72</td>\n",
       "      <td>3</td>\n",
       "      <td>3</td>\n",
       "      <td>2</td>\n",
       "      <td>...</td>\n",
       "      <td>0</td>\n",
       "      <td>0</td>\n",
       "      <td>0</td>\n",
       "      <td>0</td>\n",
       "      <td>0</td>\n",
       "      <td>0</td>\n",
       "      <td>0</td>\n",
       "      <td>0</td>\n",
       "      <td>0</td>\n",
       "      <td>2016</td>\n",
       "    </tr>\n",
       "    <tr>\n",
       "      <th>16190</th>\n",
       "      <td>16190_2016</td>\n",
       "      <td>WK019352</td>\n",
       "      <td>Zwolle</td>\n",
       "      <td>Wijk</td>\n",
       "      <td>WK019352</td>\n",
       "      <td>1</td>\n",
       "      <td>867</td>\n",
       "      <td>17</td>\n",
       "      <td>9</td>\n",
       "      <td>6</td>\n",
       "      <td>...</td>\n",
       "      <td>6</td>\n",
       "      <td>6</td>\n",
       "      <td>1</td>\n",
       "      <td>5</td>\n",
       "      <td>0</td>\n",
       "      <td>2</td>\n",
       "      <td>0</td>\n",
       "      <td>0</td>\n",
       "      <td>2</td>\n",
       "      <td>2016</td>\n",
       "    </tr>\n",
       "    <tr>\n",
       "      <th>16191</th>\n",
       "      <td>16191_2016</td>\n",
       "      <td>BU01935200</td>\n",
       "      <td>Zwolle</td>\n",
       "      <td>Buurt</td>\n",
       "      <td>BU01935200</td>\n",
       "      <td>1</td>\n",
       "      <td>386</td>\n",
       "      <td>8</td>\n",
       "      <td>2</td>\n",
       "      <td>2</td>\n",
       "      <td>...</td>\n",
       "      <td>6</td>\n",
       "      <td>6</td>\n",
       "      <td>1</td>\n",
       "      <td>5</td>\n",
       "      <td>0</td>\n",
       "      <td>0</td>\n",
       "      <td>0</td>\n",
       "      <td>0</td>\n",
       "      <td>0</td>\n",
       "      <td>2016</td>\n",
       "    </tr>\n",
       "    <tr>\n",
       "      <th>16192</th>\n",
       "      <td>16192_2016</td>\n",
       "      <td>BU01935210</td>\n",
       "      <td>Zwolle</td>\n",
       "      <td>Buurt</td>\n",
       "      <td>BU01935210</td>\n",
       "      <td>1</td>\n",
       "      <td>481</td>\n",
       "      <td>9</td>\n",
       "      <td>7</td>\n",
       "      <td>4</td>\n",
       "      <td>...</td>\n",
       "      <td>0</td>\n",
       "      <td>0</td>\n",
       "      <td>0</td>\n",
       "      <td>0</td>\n",
       "      <td>0</td>\n",
       "      <td>2</td>\n",
       "      <td>0</td>\n",
       "      <td>0</td>\n",
       "      <td>2</td>\n",
       "      <td>2016</td>\n",
       "    </tr>\n",
       "  </tbody>\n",
       "</table>\n",
       "<p>49630 rows × 28 columns</p>\n",
       "</div>"
      ],
      "text/plain": [
       "               ID WijkenEnBuurten                    Gemeentenaam SoortRegio  \\\n",
       "0          0_2018      GM1680      Aa en Hunze                      Gemeente   \n",
       "1          1_2018      WK168000    Aa en Hunze                      Wijk       \n",
       "2          2_2018      BU16800000  Aa en Hunze                      Buurt      \n",
       "3          3_2018      BU16800009  Aa en Hunze                      Buurt      \n",
       "4          4_2018      WK168001    Aa en Hunze                      Wijk       \n",
       "...           ...             ...                             ...        ...   \n",
       "16188  16188_2016      BU01935150  Zwolle                           Buurt      \n",
       "16189  16189_2016      BU01935160  Zwolle                           Buurt      \n",
       "16190  16190_2016      WK019352    Zwolle                           Wijk       \n",
       "16191  16191_2016      BU01935200  Zwolle                           Buurt      \n",
       "16192  16192_2016      BU01935210  Zwolle                           Buurt      \n",
       "\n",
       "         Codering Indelingswijziging AantalInwoners  \\\n",
       "0      GM1680                      .          25390   \n",
       "1      WK168000                    1           3560   \n",
       "2      BU16800000                  1           3415   \n",
       "3      BU16800009                  1            145   \n",
       "4      WK168001                    1           1430   \n",
       "...           ...                ...            ...   \n",
       "16188  BU01935150                  1           3199   \n",
       "16189  BU01935160                  1             72   \n",
       "16190  WK019352                    1            867   \n",
       "16191  BU01935200                  1            386   \n",
       "16192  BU01935210                  1            481   \n",
       "\n",
       "      TotaalVermogenVernielingEnGeweld TotaalVermogensmisdrijven  \\\n",
       "0                                  423                       284   \n",
       "1                                   38                        22   \n",
       "2                                   37                        21   \n",
       "3                                    1                         1   \n",
       "4                                   19                        16   \n",
       "...                                ...                       ...   \n",
       "16188                               33                        20   \n",
       "16189                                3                         3   \n",
       "16190                               17                         9   \n",
       "16191                                8                         2   \n",
       "16192                                9                         7   \n",
       "\n",
       "      TotaalDiefstal  ... TotaalVernielingTegenOpenbareOrde TotaalVernieling  \\\n",
       "0                199  ...                                73               59   \n",
       "1                 16  ...                                 9                8   \n",
       "2                 15  ...                                 9                8   \n",
       "3                  1  ...                                 0                0   \n",
       "4                 12  ...                                 1                1   \n",
       "...              ...  ...                               ...              ...   \n",
       "16188             13  ...                                 9                9   \n",
       "16189              2  ...                                 0                0   \n",
       "16190              6  ...                                 6                6   \n",
       "16191              2  ...                                 6                6   \n",
       "16192              4  ...                                 0                0   \n",
       "\n",
       "      VernielingAanAuto OverigeVernieling OverigeVernielingTegenOpenbareOrde  \\\n",
       "0                    14                45                                 14   \n",
       "1                     1                 7                                  1   \n",
       "2                     1                 7                                  1   \n",
       "3                     0                 0                                  0   \n",
       "4                     0                 1                                  0   \n",
       "...                 ...               ...                                ...   \n",
       "16188                 2                 7                                  0   \n",
       "16189                 0                 0                                  0   \n",
       "16190                 1                 5                                  0   \n",
       "16191                 1                 5                                  0   \n",
       "16192                 0                 0                                  0   \n",
       "\n",
       "      TotaalGeweldsEnSeksueleMisdrijven Mishandeling BedreigingEnStalking  \\\n",
       "0                                    66           26                   23   \n",
       "1                                     7            3                    3   \n",
       "2                                     7            3                    3   \n",
       "3                                     0            0                    0   \n",
       "4                                     2            1                    0   \n",
       "...                                 ...          ...                  ...   \n",
       "16188                                 4            0                    4   \n",
       "16189                                 0            0                    0   \n",
       "16190                                 2            0                    0   \n",
       "16191                                 0            0                    0   \n",
       "16192                                 2            0                    0   \n",
       "\n",
       "      OverigeGeweldsEnSeksueleMisdrijven  year  \n",
       "0                                     17  2016  \n",
       "1                                      1  2016  \n",
       "2                                      1  2016  \n",
       "3                                      0  2016  \n",
       "4                                      1  2016  \n",
       "...                                  ...   ...  \n",
       "16188                                  0  2016  \n",
       "16189                                  0  2016  \n",
       "16190                                  2  2016  \n",
       "16191                                  0  2016  \n",
       "16192                                  2  2016  \n",
       "\n",
       "[49630 rows x 28 columns]"
      ]
     },
     "execution_count": 9,
     "metadata": {},
     "output_type": "execute_result"
    }
   ],
   "source": [
    "df_all"
   ]
  },
  {
   "attachments": {},
   "cell_type": "markdown",
   "metadata": {},
   "source": [
    "Now, let's save it and try to load it (checking if it works)."
   ]
  },
  {
   "cell_type": "code",
   "execution_count": 10,
   "metadata": {},
   "outputs": [],
   "source": [
    "df_all.to_csv(path_or_buf=\"data/all_data.csv\", sep=\";\", index=False)"
   ]
  },
  {
   "cell_type": "code",
   "execution_count": 11,
   "metadata": {},
   "outputs": [],
   "source": [
    "df_all = pd.read_csv(filepath_or_buffer=\"data/all_data.csv\", delimiter=\";\")"
   ]
  },
  {
   "attachments": {},
   "cell_type": "markdown",
   "metadata": {},
   "source": [
    "## Visualizations"
   ]
  },
  {
   "attachments": {},
   "cell_type": "markdown",
   "metadata": {},
   "source": [
    "### Let's do so EDA when considering all datasets."
   ]
  },
  {
   "cell_type": "code",
   "execution_count": 12,
   "metadata": {},
   "outputs": [
    {
     "data": {
      "image/png": "[encoded data removed]",
      "text/plain": [
       "<Figure size 640x480 with 1 Axes>"
      ]
     },
     "metadata": {},
     "output_type": "display_data"
    }
   ],
   "source": [
    "number_of_crimes = [len(dfs[x]) for x in dfs.keys()]\n",
    "years = list(dfs.keys())\n",
    "\n",
    "plt.bar(x=years, height=number_of_crimes)\n",
    "plt.title(\"Number of crimes per year\")\n",
    "plt.show()"
   ]
  },
  {
   "cell_type": "code",
   "execution_count": 13,
   "metadata": {},
   "outputs": [
    {
     "data": {
      "text/plain": [
       "Index(['index', 'WijkenEnBuurten', 'Gemeentenaam', 'SoortRegio', 'Codering',\n",
       "       'Indelingswijziging', 'AantalInwoners',\n",
       "       'TotaalVermogenVernielingEnGeweld', 'TotaalVermogensmisdrijven',\n",
       "       'TotaalDiefstal', 'Fietsendiefstal', 'DiefstalOverigeVervoermiddelen',\n",
       "       'DiefstalUitVanafVervoermiddelen', 'ZakkenrollerijStraatroofEnBeroving',\n",
       "       'TotaalDiefstalUitWoningSchuurED',\n",
       "       'DiefstalUitNietResidentieleGebouwen', 'OverigeDiefstalInbraak',\n",
       "       'OverigeVermogensmisdrijven', 'TotaalVernielingTegenOpenbareOrde',\n",
       "       'TotaalVernieling', 'VernielingAanAuto', 'OverigeVernieling',\n",
       "       'OverigeVernielingTegenOpenbareOrde',\n",
       "       'TotaalGeweldsEnSeksueleMisdrijven', 'Mishandeling',\n",
       "       'BedreigingEnStalking', 'OverigeGeweldsEnSeksueleMisdrijven', 'year'],\n",
       "      dtype='object')"
      ]
     },
     "execution_count": 13,
     "metadata": {},
     "output_type": "execute_result"
    }
   ],
   "source": [
    "dfs[\"2018\"].columns"
   ]
  },
  {
   "cell_type": "code",
   "execution_count": 14,
   "metadata": {},
   "outputs": [],
   "source": [
    "def fix_zeros(dataframes: dict[str, pd.DataFrame], key: str) -> dict[str, pd.DataFrame]:\n",
    "    for dataframe in dfs.values():\n",
    "        dataframe[key] = dataframe[key].replace(r'(\\s+)', \"\", regex=True) #replace all spaces with nothing\n",
    "        dataframe[key] = dataframe[key].replace(r'(\\.)', \"0\", regex=True) #replace the dots with 0\n",
    "        dataframe[key] = dataframe[key].astype(int)\n",
    "\n",
    "    return dfs"
   ]
  },
  {
   "cell_type": "code",
   "execution_count": 15,
   "metadata": {},
   "outputs": [],
   "source": [
    "#CBS used . instead of 0s and strings instead of integers when loading data\n",
    "#--> fixing it here\n",
    "dfs = fix_zeros(dataframes = dfs, key = \"TotaalVermogenVernielingEnGeweld\")"
   ]
  },
  {
   "cell_type": "code",
   "execution_count": 16,
   "metadata": {},
   "outputs": [
    {
     "data": {
      "image/png": "[encoded data removed]",
      "text/plain": [
       "<Figure size 640x480 with 1 Axes>"
      ]
     },
     "metadata": {},
     "output_type": "display_data"
    }
   ],
   "source": [
    "number_of_crimes = [sum(dfs[x][\"TotaalVermogenVernielingEnGeweld\"]) for x in dfs.keys()]\n",
    "years = list(dfs.keys())\n",
    "\n",
    "plt.bar(x=years, height=number_of_crimes)\n",
    "plt.title(\"Number of ...\") #TODO: fix title\n",
    "plt.show()"
   ]
  },
  {
   "attachments": {},
   "cell_type": "markdown",
   "metadata": {},
   "source": [
    "### Let's do so EDA when considering each dataset separately."
   ]
  }
 ],
 "metadata": {
  "kernelspec": {
   "display_name": ".venv",
   "language": "python",
   "name": "python3"
  },
  "language_info": {
   "codemirror_mode": {
    "name": "ipython",
    "version": 3
   },
   "file_extension": ".py",
   "mimetype": "text/x-python",
   "name": "python",
   "nbconvert_exporter": "python",
   "pygments_lexer": "ipython3",
   "version": "3.11.2"
  },
  "orig_nbformat": 4
 },
 "nbformat": 4,
 "nbformat_minor": 2
}
